{
 "cells": [
  {
   "cell_type": "code",
   "execution_count": 1,
   "id": "d84bc5b0",
   "metadata": {},
   "outputs": [],
   "source": [
    "import pandas as pd\n",
    "import numpy as np"
   ]
  },
  {
   "cell_type": "code",
   "execution_count": 2,
   "id": "3a5dcc78",
   "metadata": {},
   "outputs": [],
   "source": [
    "excess_returns = pd.read_excel('data.xlsx', index_col=0, sheet_name='excess returns')\n",
    "total_returns = pd.read_excel('data.xlsx', index_col=0, sheet_name='total returns')"
   ]
  },
  {
   "cell_type": "markdown",
   "id": "b1db8ff3",
   "metadata": {},
   "source": [
    "### 1. Обчислити та відобразити середнє значення та волатильність надлишкової прибутковості кожного активу. (Нагадаймо, ми використовуємо волатильність для позначення стандартного відхилення.)"
   ]
  },
  {
   "cell_type": "code",
   "execution_count": 3,
   "id": "b718b790",
   "metadata": {},
   "outputs": [
    {
     "name": "stdout",
     "output_type": "stream",
     "text": [
      "1:\n",
      "Середнє значення: 2.236688155729958e-07\n",
      "Волатильність: 0.022605301446249417\n",
      "2:\n",
      "Середнє значення: 0.0028496496007719826\n",
      "Волатильність: 0.05215290509006096\n",
      "3:\n",
      "Середнє значення: 0.005664235005342939\n",
      "Волатильність: 0.055446065395077515\n",
      "4:\n",
      "Середнє значення: 0.006372843461621525\n",
      "Волатильність: 0.04685128337883684\n",
      "5:\n",
      "Середнє значення: 0.00557813140082518\n",
      "Волатильність: 0.02589434383845122\n",
      "6:\n",
      "Середнє значення: 0.001765204665364129\n",
      "Волатильність: 0.017143530837046193\n",
      "7:\n",
      "Середнє значення: 0.012123116229390912\n",
      "Волатильність: 0.053331117842272\n",
      "8:\n",
      "Середнє значення: 0.010718466368097278\n",
      "Волатильність: 0.06402024866617782\n",
      "9:\n",
      "Середнє значення: 0.0015176287371057601\n",
      "Волатильність: 0.01419541850465566\n",
      "10:\n",
      "Середнє значення: 0.012136922367783168\n",
      "Волатильність: 0.04193282273282999\n",
      "11:\n",
      "Середнє значення: 0.0025264190354003318\n",
      "Волатильність: 0.013764378728582695\n"
     ]
    }
   ],
   "source": [
    "mean_returns = excess_returns.mean()\n",
    "volatility = excess_returns.std()\n",
    "\n",
    "for i, (mean_return, volat) in enumerate(zip(mean_returns, volatility), start=1):\n",
    "    print(f\"{i}:\")\n",
    "    print(\"Середнє значення:\", mean_return)\n",
    "    print(\"Волатильність:\", volat)"
   ]
  },
  {
   "cell_type": "markdown",
   "id": "73edf713",
   "metadata": {},
   "source": [
    "### 2. Які активи мають найкращі та найгірші коефіцієнти Шарпа?"
   ]
  },
  {
   "cell_type": "code",
   "execution_count": 4,
   "id": "8c8eb40a",
   "metadata": {},
   "outputs": [
    {
     "name": "stdout",
     "output_type": "stream",
     "text": [
      "Актив з найкращим коефіцієнтом Шарпа: SPY\n",
      "Актив з найгіршим коефіцієнтом Шарпа: BWX\n"
     ]
    }
   ],
   "source": [
    "positive_values_excess_returns = excess_returns[excess_returns > 0]\n",
    "rf = positive_values_excess_returns.min()\n",
    "\n",
    "sharpe_ratio = (mean_returns - rf) / volatility\n",
    "\n",
    "best_sharpe_asset = sharpe_ratio.idxmax()\n",
    "worst_sharpe_asset = sharpe_ratio.idxmin()\n",
    "\n",
    "print(\"Актив з найкращим коефіцієнтом Шарпа:\", best_sharpe_asset)\n",
    "print(\"Актив з найгіршим коефіцієнтом Шарпа:\", worst_sharpe_asset)"
   ]
  },
  {
   "cell_type": "markdown",
   "id": "ab669f96",
   "metadata": {},
   "source": [
    "### 3. Розрахувати кореляційну матрицю доходів. Яка пара має найбільшу кореляцію? Яка найменшу?"
   ]
  },
  {
   "cell_type": "code",
   "execution_count": 5,
   "id": "8099e744",
   "metadata": {},
   "outputs": [
    {
     "name": "stdout",
     "output_type": "stream",
     "text": [
      "Пара з найбільшою кореляцією: ('BWX', 'BWX') з кореляцією 1.0\n",
      "Пара з найменшою кореляцією: ('IEF', 'DBC') з кореляцією -0.4048695536661329\n"
     ]
    }
   ],
   "source": [
    "correlation_matrix = excess_returns.corr()\n",
    "\n",
    "max_correlation_pair = correlation_matrix.unstack().sort_values(ascending=False).idxmax()\n",
    "max_correlation = correlation_matrix[max_correlation_pair[0]][max_correlation_pair[1]]\n",
    "\n",
    "min_correlation_pair = correlation_matrix.unstack().sort_values().idxmin()\n",
    "min_correlation = correlation_matrix[min_correlation_pair[0]][min_correlation_pair[1]]\n",
    "\n",
    "print(\"Пара з найбільшою кореляцією:\", max_correlation_pair, \"з кореляцією\", max_correlation)\n",
    "print(\"Пара з найменшою кореляцією:\", min_correlation_pair, \"з кореляцією\", min_correlation)"
   ]
  },
  {
   "cell_type": "markdown",
   "id": "dd41e382",
   "metadata": {},
   "source": [
    "### 4. Наскільки добре спрацювали TIPS у нашій вибірці? Чи перевершили вони внутрішні облігації (IEF)?Іноземні облігації (foreign bonds)?\n"
   ]
  },
  {
   "cell_type": "code",
   "execution_count": null,
   "id": "fcca432c",
   "metadata": {},
   "outputs": [],
   "source": []
  },
  {
   "cell_type": "markdown",
   "id": "4ea93f96",
   "metadata": {},
   "source": [
    "### 5. MV frontier. Обчислити та відобразити ваги дотичних портфелів (tangency portfolio), w^t"
   ]
  },
  {
   "cell_type": "code",
   "execution_count": 6,
   "id": "24af387d",
   "metadata": {},
   "outputs": [
    {
     "data": {
      "text/plain": [
       "BWX   -21.896045\n",
       "DBC   -83.025480\n",
       "EEM     7.717960\n",
       "EFA     5.826564\n",
       "HYG     3.420415\n",
       "IEF     7.893020\n",
       "IYR     3.120907\n",
       "PSP     4.367239\n",
       "QAI     7.040253\n",
       "SPY     2.432289\n",
       "TIP     3.912745\n",
       "dtype: float64"
      ]
     },
     "execution_count": 6,
     "metadata": {},
     "output_type": "execute_result"
    }
   ],
   "source": [
    "total_sharpe_ratio = sum(sharpe_ratio)\n",
    "tangency_portfolio_weights = 1 / (sharpe_ratio * total_sharpe_ratio)\n",
    "\n",
    "tangency_portfolio_weights"
   ]
  },
  {
   "cell_type": "markdown",
   "id": "9a90b96c",
   "metadata": {},
   "source": [
    "### 6. Обчисліть очікуваний прибуток, волатильність і коефіцієнт Шарпа для дотичного портфеля, що відповідає w^t"
   ]
  },
  {
   "cell_type": "code",
   "execution_count": 13,
   "id": "fe14d67f",
   "metadata": {},
   "outputs": [
    {
     "name": "stdout",
     "output_type": "stream",
     "text": [
      "Очікуваний прибуток: 0.011997472167372885\n",
      "Волатильність: 0.04405340895920731\n",
      "Коефіцієнт Шарпа: 0.27233924572062823\n"
     ]
    }
   ],
   "source": [
    "expected_return_portfolio = sum(tangency_portfolio_weights * mean_returns)\n",
    "portfolio_volatility = np.sqrt(sum((tangency_portfolio_weights / 100) ** 2 * volatility ** 2))\n",
    "sharpe_ratio_portfolio = expected_return_portfolio / portfolio_volatility\n",
    "\n",
    "print(\"Очікуваний прибуток:\", expected_return_portfolio)\n",
    "print(\"Волатильність:\", portfolio_volatility)\n",
    "print(\"Коефіцієнт Шарпа:\", sharpe_ratio_portfolio)"
   ]
  },
  {
   "cell_type": "code",
   "execution_count": null,
   "id": "d7f0f95d",
   "metadata": {},
   "outputs": [],
   "source": []
  },
  {
   "cell_type": "markdown",
   "id": "ce14ca66",
   "metadata": {},
   "source": [
    "### 10. Оцініть, наскільки зміниться коефіцієнт Шарпа, якщо ми виключимо TIPS з інвестиційного набору (потрфель з 10 активів.) Подивіться, наскільки це змінює очікуваний прибуток та волатильність в умовах задачі 5."
   ]
  },
  {
   "cell_type": "code",
   "execution_count": 25,
   "id": "7bbcad0e",
   "metadata": {},
   "outputs": [
    {
     "name": "stdout",
     "output_type": "stream",
     "text": [
      "Актив з найкращим коефіцієнтом Шарпа: SHV\n",
      "Актив з найгіршим коефіцієнтом Шарпа: DBC\n"
     ]
    }
   ],
   "source": [
    "total_returns_tip=total_returns.drop(['TIP'], axis=1)\n",
    "\n",
    "mean_returns_total = total_returns_tip.mean()\n",
    "volatility_total = total_returns_tip.std()\n",
    "\n",
    "positive_values_total_returns = total_returns_tip[total_returns_tip > 0]\n",
    "rf = positive_values_total_returns.min()\n",
    "\n",
    "sharpe_ratio_total = (mean_returns_total - rf) / volatility_total\n",
    "\n",
    "best_sharpe_asset_total = sharpe_ratio_total.idxmax()\n",
    "worst_sharpe_asset_total = sharpe_ratio_total.idxmin()\n",
    "\n",
    "print(\"Актив з найкращим коефіцієнтом Шарпа:\", best_sharpe_asset_total)\n",
    "print(\"Актив з найгіршим коефіцієнтом Шарпа:\", worst_sharpe_asset_total)"
   ]
  },
  {
   "cell_type": "code",
   "execution_count": null,
   "id": "a03fbb9b",
   "metadata": {},
   "outputs": [],
   "source": []
  }
 ],
 "metadata": {
  "kernelspec": {
   "display_name": "Python 3 (ipykernel)",
   "language": "python",
   "name": "python3"
  },
  "language_info": {
   "codemirror_mode": {
    "name": "ipython",
    "version": 3
   },
   "file_extension": ".py",
   "mimetype": "text/x-python",
   "name": "python",
   "nbconvert_exporter": "python",
   "pygments_lexer": "ipython3",
   "version": "3.8.16"
  }
 },
 "nbformat": 4,
 "nbformat_minor": 5
}
